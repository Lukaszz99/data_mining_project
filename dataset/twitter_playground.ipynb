{
 "cells": [
  {
   "cell_type": "code",
   "execution_count": 32,
   "metadata": {
    "collapsed": true,
    "pycharm": {
     "name": "#%%\n"
    }
   },
   "outputs": [],
   "source": [
    "import pandas as pd\n",
    "import json\n",
    "import tweepy\n",
    "pd.options.display.max_colwidth=100"
   ]
  },
  {
   "cell_type": "code",
   "execution_count": 2,
   "outputs": [],
   "source": [
    "import yaml"
   ],
   "metadata": {
    "collapsed": false,
    "pycharm": {
     "name": "#%%\n"
    }
   }
  },
  {
   "cell_type": "code",
   "execution_count": 25,
   "outputs": [],
   "source": [
    "with open(\"access_config.yaml\") as f:\n",
    "    access_dict = yaml.safe_load(f)"
   ],
   "metadata": {
    "collapsed": false,
    "pycharm": {
     "name": "#%%\n"
    }
   }
  },
  {
   "cell_type": "code",
   "execution_count": 26,
   "outputs": [
    {
     "data": {
      "text/plain": "{'api_key': '7YkO1GQdXoMn8Y2uRMjlyehib',\n 'api_key_secret': 'jKgIgPapp6kc4jALa6Nhui4q0iTK1TcHk5D641pSn1DuNL2eHF',\n 'access_token': '1390221257384333312-ZORIsocGAcEiCszcTCoLcKx8IBIdQx',\n 'access_token_secret': 'CyL8XpAhFy59aRRxXC2uwFo8RdyiV7pJcxlEGnbEH0GVb',\n 'bearer_token': 'AAAAAAAAAAAAAAAAAAAAAFKljwEAAAAAvYAfpgIn562Ns7HJWR8cqbdKE9c%3DfIlfHrvXHnWOcU4CHNmc9BtueV2Ki5hdvQx7LEAUr7VcYVOr5V'}"
     },
     "execution_count": 26,
     "metadata": {},
     "output_type": "execute_result"
    }
   ],
   "source": [
    "access_dict"
   ],
   "metadata": {
    "collapsed": false,
    "pycharm": {
     "name": "#%%\n"
    }
   }
  },
  {
   "cell_type": "code",
   "execution_count": 27,
   "outputs": [],
   "source": [
    "# authentication\n",
    "api_key = access_dict['api_key']\n",
    "api_key_secret = access_dict['api_key_secret']\n",
    "access_token = access_dict['access_token']\n",
    "access_token_secret = access_dict['access_token_secret']\n",
    "bearer_token = access_dict['bearer_token']"
   ],
   "metadata": {
    "collapsed": false,
    "pycharm": {
     "name": "#%%\n"
    }
   }
  },
  {
   "cell_type": "code",
   "execution_count": 7,
   "outputs": [],
   "source": [
    "auth = tweepy.OAuthHandler(api_key, api_key_secret)\n",
    "auth.set_access_token(access_token, access_token_secret)"
   ],
   "metadata": {
    "collapsed": false,
    "pycharm": {
     "name": "#%%\n"
    }
   }
  },
  {
   "cell_type": "code",
   "execution_count": 8,
   "outputs": [],
   "source": [
    "api = tweepy.API(auth)"
   ],
   "metadata": {
    "collapsed": false,
    "pycharm": {
     "name": "#%%\n"
    }
   }
  },
  {
   "cell_type": "code",
   "execution_count": 11,
   "outputs": [
    {
     "ename": "Forbidden",
     "evalue": "403 Forbidden\n453 - You currently have Essential access which includes access to Twitter API v2 endpoints only. If you need access to this endpoint, you’ll need to apply for Elevated access via the Developer Portal. You can learn more here: https://developer.twitter.com/en/docs/twitter-api/getting-started/about-twitter-api#v2-access-leve",
     "output_type": "error",
     "traceback": [
      "\u001B[1;31m---------------------------------------------------------------------------\u001B[0m",
      "\u001B[1;31mForbidden\u001B[0m                                 Traceback (most recent call last)",
      "Cell \u001B[1;32mIn[11], line 1\u001B[0m\n\u001B[1;32m----> 1\u001B[0m public_tweets \u001B[38;5;241m=\u001B[39m \u001B[43mapi\u001B[49m\u001B[38;5;241;43m.\u001B[39;49m\u001B[43mhome_timeline\u001B[49m\u001B[43m(\u001B[49m\u001B[43m)\u001B[49m\n",
      "File \u001B[1;32mC:\\Program Files\\Python310\\lib\\site-packages\\tweepy\\api.py:33\u001B[0m, in \u001B[0;36mpagination.<locals>.decorator.<locals>.wrapper\u001B[1;34m(*args, **kwargs)\u001B[0m\n\u001B[0;32m     31\u001B[0m \u001B[38;5;129m@functools\u001B[39m\u001B[38;5;241m.\u001B[39mwraps(method)\n\u001B[0;32m     32\u001B[0m \u001B[38;5;28;01mdef\u001B[39;00m \u001B[38;5;21mwrapper\u001B[39m(\u001B[38;5;241m*\u001B[39margs, \u001B[38;5;241m*\u001B[39m\u001B[38;5;241m*\u001B[39mkwargs):\n\u001B[1;32m---> 33\u001B[0m     \u001B[38;5;28;01mreturn\u001B[39;00m method(\u001B[38;5;241m*\u001B[39margs, \u001B[38;5;241m*\u001B[39m\u001B[38;5;241m*\u001B[39mkwargs)\n",
      "File \u001B[1;32mC:\\Program Files\\Python310\\lib\\site-packages\\tweepy\\api.py:46\u001B[0m, in \u001B[0;36mpayload.<locals>.decorator.<locals>.wrapper\u001B[1;34m(*args, **kwargs)\u001B[0m\n\u001B[0;32m     44\u001B[0m kwargs[\u001B[38;5;124m'\u001B[39m\u001B[38;5;124mpayload_list\u001B[39m\u001B[38;5;124m'\u001B[39m] \u001B[38;5;241m=\u001B[39m payload_list\n\u001B[0;32m     45\u001B[0m kwargs[\u001B[38;5;124m'\u001B[39m\u001B[38;5;124mpayload_type\u001B[39m\u001B[38;5;124m'\u001B[39m] \u001B[38;5;241m=\u001B[39m payload_type\n\u001B[1;32m---> 46\u001B[0m \u001B[38;5;28;01mreturn\u001B[39;00m method(\u001B[38;5;241m*\u001B[39margs, \u001B[38;5;241m*\u001B[39m\u001B[38;5;241m*\u001B[39mkwargs)\n",
      "File \u001B[1;32mC:\\Program Files\\Python310\\lib\\site-packages\\tweepy\\api.py:494\u001B[0m, in \u001B[0;36mAPI.home_timeline\u001B[1;34m(self, **kwargs)\u001B[0m\n\u001B[0;32m    461\u001B[0m \u001B[38;5;129m@pagination\u001B[39m(mode\u001B[38;5;241m=\u001B[39m\u001B[38;5;124m'\u001B[39m\u001B[38;5;124mid\u001B[39m\u001B[38;5;124m'\u001B[39m)\n\u001B[0;32m    462\u001B[0m \u001B[38;5;129m@payload\u001B[39m(\u001B[38;5;124m'\u001B[39m\u001B[38;5;124mstatus\u001B[39m\u001B[38;5;124m'\u001B[39m, \u001B[38;5;28mlist\u001B[39m\u001B[38;5;241m=\u001B[39m\u001B[38;5;28;01mTrue\u001B[39;00m)\n\u001B[0;32m    463\u001B[0m \u001B[38;5;28;01mdef\u001B[39;00m \u001B[38;5;21mhome_timeline\u001B[39m(\u001B[38;5;28mself\u001B[39m, \u001B[38;5;241m*\u001B[39m\u001B[38;5;241m*\u001B[39mkwargs):\n\u001B[0;32m    464\u001B[0m     \u001B[38;5;124;03m\"\"\"home_timeline(*, count, since_id, max_id, trim_user, \\\u001B[39;00m\n\u001B[0;32m    465\u001B[0m \u001B[38;5;124;03m                     exclude_replies, include_entities)\u001B[39;00m\n\u001B[0;32m    466\u001B[0m \n\u001B[1;32m   (...)\u001B[0m\n\u001B[0;32m    492\u001B[0m \u001B[38;5;124;03m    https://developer.twitter.com/en/docs/twitter-api/v1/tweets/timelines/api-reference/get-statuses-home_timeline\u001B[39;00m\n\u001B[0;32m    493\u001B[0m \u001B[38;5;124;03m    \"\"\"\u001B[39;00m\n\u001B[1;32m--> 494\u001B[0m     \u001B[38;5;28;01mreturn\u001B[39;00m \u001B[38;5;28mself\u001B[39m\u001B[38;5;241m.\u001B[39mrequest(\n\u001B[0;32m    495\u001B[0m         \u001B[38;5;124m'\u001B[39m\u001B[38;5;124mGET\u001B[39m\u001B[38;5;124m'\u001B[39m, \u001B[38;5;124m'\u001B[39m\u001B[38;5;124mstatuses/home_timeline\u001B[39m\u001B[38;5;124m'\u001B[39m, endpoint_parameters\u001B[38;5;241m=\u001B[39m(\n\u001B[0;32m    496\u001B[0m             \u001B[38;5;124m'\u001B[39m\u001B[38;5;124mcount\u001B[39m\u001B[38;5;124m'\u001B[39m, \u001B[38;5;124m'\u001B[39m\u001B[38;5;124msince_id\u001B[39m\u001B[38;5;124m'\u001B[39m, \u001B[38;5;124m'\u001B[39m\u001B[38;5;124mmax_id\u001B[39m\u001B[38;5;124m'\u001B[39m, \u001B[38;5;124m'\u001B[39m\u001B[38;5;124mtrim_user\u001B[39m\u001B[38;5;124m'\u001B[39m, \u001B[38;5;124m'\u001B[39m\u001B[38;5;124mexclude_replies\u001B[39m\u001B[38;5;124m'\u001B[39m,\n\u001B[0;32m    497\u001B[0m             \u001B[38;5;124m'\u001B[39m\u001B[38;5;124minclude_entities\u001B[39m\u001B[38;5;124m'\u001B[39m\n\u001B[0;32m    498\u001B[0m         ), \u001B[38;5;241m*\u001B[39m\u001B[38;5;241m*\u001B[39mkwargs\n\u001B[0;32m    499\u001B[0m     )\n",
      "File \u001B[1;32mC:\\Program Files\\Python310\\lib\\site-packages\\tweepy\\api.py:265\u001B[0m, in \u001B[0;36mAPI.request\u001B[1;34m(self, method, endpoint, endpoint_parameters, params, headers, json_payload, parser, payload_list, payload_type, post_data, files, require_auth, return_cursors, upload_api, use_cache, **kwargs)\u001B[0m\n\u001B[0;32m    263\u001B[0m     \u001B[38;5;28;01mraise\u001B[39;00m Unauthorized(resp)\n\u001B[0;32m    264\u001B[0m \u001B[38;5;28;01mif\u001B[39;00m resp\u001B[38;5;241m.\u001B[39mstatus_code \u001B[38;5;241m==\u001B[39m \u001B[38;5;241m403\u001B[39m:\n\u001B[1;32m--> 265\u001B[0m     \u001B[38;5;28;01mraise\u001B[39;00m Forbidden(resp)\n\u001B[0;32m    266\u001B[0m \u001B[38;5;28;01mif\u001B[39;00m resp\u001B[38;5;241m.\u001B[39mstatus_code \u001B[38;5;241m==\u001B[39m \u001B[38;5;241m404\u001B[39m:\n\u001B[0;32m    267\u001B[0m     \u001B[38;5;28;01mraise\u001B[39;00m NotFound(resp)\n",
      "\u001B[1;31mForbidden\u001B[0m: 403 Forbidden\n453 - You currently have Essential access which includes access to Twitter API v2 endpoints only. If you need access to this endpoint, you’ll need to apply for Elevated access via the Developer Portal. You can learn more here: https://developer.twitter.com/en/docs/twitter-api/getting-started/about-twitter-api#v2-access-leve"
     ]
    }
   ],
   "source": [
    "public_tweets = api.home_timeline()"
   ],
   "metadata": {
    "collapsed": false,
    "pycharm": {
     "name": "#%%\n"
    }
   }
  },
  {
   "cell_type": "code",
   "execution_count": 126,
   "outputs": [],
   "source": [
    "v2_client = tweepy.Client(bearer_token=bearer_token, consumer_key=api_key, consumer_secret=api_key_secret, access_token=access_token, access_token_secret=access_token_secret, return_type=dict)"
   ],
   "metadata": {
    "collapsed": false,
    "pycharm": {
     "name": "#%%\n"
    }
   }
  },
  {
   "cell_type": "code",
   "execution_count": 165,
   "outputs": [],
   "source": [
    "# query = 'from:elonmusk -is:retweet'\n",
    "query = '#biden lang:en -is:retweet'\n",
    "\n",
    "tweets = v2_client.search_recent_tweets(\n",
    "    query=query,\n",
    "    max_results = 100,\n",
    "    start_time='2022-11-28T00:00:00.000Z',\n",
    "    end_time='2022-11-28T23:59:59.000Z',\n",
    "    tweet_fields = ['author_id','created_at','text','source','lang','geo'],\n",
    "    user_fields = ['name','username','location','verified'],\n",
    "    expansions = ['geo.place_id', 'author_id'],\n",
    "    place_fields = ['country','country_code']\n",
    ")"
   ],
   "metadata": {
    "collapsed": false,
    "pycharm": {
     "name": "#%%\n"
    }
   }
  },
  {
   "cell_type": "code",
   "execution_count": 171,
   "outputs": [
    {
     "data": {
      "text/plain": "              author_id                created_at lang                   id  \\\n0    794332494489325568  2022-11-28T23:58:08.000Z   en  1597379345340694528   \n1             581782217  2022-11-28T23:57:47.000Z   en  1597379257625346053   \n2   1009517269658030082  2022-11-28T23:57:35.000Z   en  1597379208912961536   \n3   1009517269658030082  2022-11-28T23:57:34.000Z   en  1597379202139189249   \n4   1009517269658030082  2022-11-28T23:57:32.000Z   en  1597379195197607936   \n..                  ...                       ...  ...                  ...   \n95             15484198  2022-11-28T22:53:11.000Z   en  1597362998989197312   \n96  1477660185640402944  2022-11-28T22:52:49.000Z   en  1597362907137703937   \n97  1445142037762805761  2022-11-28T22:52:19.000Z   en  1597362781703266304   \n98  1009517269658030082  2022-11-28T22:51:32.000Z   en  1597362586873638912   \n99  1101867251324596224  2022-11-28T22:51:14.000Z   en  1597362509660364800   \n\n                source  \\\n0      Twitter Web App   \n1    CliffordRibnerWeb   \n2              dlvr.it   \n3              dlvr.it   \n4              dlvr.it   \n..                 ...   \n95  Twitter for iPhone   \n96     Twitter Web App   \n97  Twitter for iPhone   \n98             dlvr.it   \n99  Twitter for iPhone   \n\n                                                                                                   text  \n0   @TomFitton @elonmusk @Twitter Not a problem of concern for #Biden &amp; #Dems --  #BorderCrisis ...  \n1   Barr Deliberately Sabotaged The 2020 Election Fraud Investigation. Why? #barr #biden #democrats ...  \n2   Funny Obey #Biden Meme Anti Government #Political Humor #Trump Ultra Maga T #Shirt https://t.co/...  \n3   Funny Rainbow Let's Go Brandon FJB Anti #Biden Politics Ultra Maga #Trump T #Shirt https://t.co/...  \n4   #Biden Let's Go Brandon #Political Funny Graphic USA Distressed Cotton T #Shirt https://t.co/VE6...  \n..                                                                                                  ...  \n95  PATREON PRIORITY ACCESS\\n#MOATS PODCAST\\n\\n#191 - “Frontline Ukraine, Taiwan elections and Arab ...  \n96  Decisions made by the cognitively impaired old turnip in the #OvalOffice continue to make NO SEN...  \n97                                       #Biden is bought and paid for by #CommunistChina and #Ukraine.  \n98                       Iranian activist has message for #Biden, world leaders https://t.co/FTsJEPsKLS  \n99  @Helt5Helt @ZaackHunt @SenBillCassidy @IlhanMN I woulda thought if #Trump is a nazi #Russian wou...  \n\n[100 rows x 6 columns]",
      "text/html": "<div>\n<style scoped>\n    .dataframe tbody tr th:only-of-type {\n        vertical-align: middle;\n    }\n\n    .dataframe tbody tr th {\n        vertical-align: top;\n    }\n\n    .dataframe thead th {\n        text-align: right;\n    }\n</style>\n<table border=\"1\" class=\"dataframe\">\n  <thead>\n    <tr style=\"text-align: right;\">\n      <th></th>\n      <th>author_id</th>\n      <th>created_at</th>\n      <th>lang</th>\n      <th>id</th>\n      <th>source</th>\n      <th>text</th>\n    </tr>\n  </thead>\n  <tbody>\n    <tr>\n      <th>0</th>\n      <td>794332494489325568</td>\n      <td>2022-11-28T23:58:08.000Z</td>\n      <td>en</td>\n      <td>1597379345340694528</td>\n      <td>Twitter Web App</td>\n      <td>@TomFitton @elonmusk @Twitter Not a problem of concern for #Biden &amp;amp; #Dems --  #BorderCrisis ...</td>\n    </tr>\n    <tr>\n      <th>1</th>\n      <td>581782217</td>\n      <td>2022-11-28T23:57:47.000Z</td>\n      <td>en</td>\n      <td>1597379257625346053</td>\n      <td>CliffordRibnerWeb</td>\n      <td>Barr Deliberately Sabotaged The 2020 Election Fraud Investigation. Why? #barr #biden #democrats ...</td>\n    </tr>\n    <tr>\n      <th>2</th>\n      <td>1009517269658030082</td>\n      <td>2022-11-28T23:57:35.000Z</td>\n      <td>en</td>\n      <td>1597379208912961536</td>\n      <td>dlvr.it</td>\n      <td>Funny Obey #Biden Meme Anti Government #Political Humor #Trump Ultra Maga T #Shirt https://t.co/...</td>\n    </tr>\n    <tr>\n      <th>3</th>\n      <td>1009517269658030082</td>\n      <td>2022-11-28T23:57:34.000Z</td>\n      <td>en</td>\n      <td>1597379202139189249</td>\n      <td>dlvr.it</td>\n      <td>Funny Rainbow Let's Go Brandon FJB Anti #Biden Politics Ultra Maga #Trump T #Shirt https://t.co/...</td>\n    </tr>\n    <tr>\n      <th>4</th>\n      <td>1009517269658030082</td>\n      <td>2022-11-28T23:57:32.000Z</td>\n      <td>en</td>\n      <td>1597379195197607936</td>\n      <td>dlvr.it</td>\n      <td>#Biden Let's Go Brandon #Political Funny Graphic USA Distressed Cotton T #Shirt https://t.co/VE6...</td>\n    </tr>\n    <tr>\n      <th>...</th>\n      <td>...</td>\n      <td>...</td>\n      <td>...</td>\n      <td>...</td>\n      <td>...</td>\n      <td>...</td>\n    </tr>\n    <tr>\n      <th>95</th>\n      <td>15484198</td>\n      <td>2022-11-28T22:53:11.000Z</td>\n      <td>en</td>\n      <td>1597362998989197312</td>\n      <td>Twitter for iPhone</td>\n      <td>PATREON PRIORITY ACCESS\\n#MOATS PODCAST\\n\\n#191 - “Frontline Ukraine, Taiwan elections and Arab ...</td>\n    </tr>\n    <tr>\n      <th>96</th>\n      <td>1477660185640402944</td>\n      <td>2022-11-28T22:52:49.000Z</td>\n      <td>en</td>\n      <td>1597362907137703937</td>\n      <td>Twitter Web App</td>\n      <td>Decisions made by the cognitively impaired old turnip in the #OvalOffice continue to make NO SEN...</td>\n    </tr>\n    <tr>\n      <th>97</th>\n      <td>1445142037762805761</td>\n      <td>2022-11-28T22:52:19.000Z</td>\n      <td>en</td>\n      <td>1597362781703266304</td>\n      <td>Twitter for iPhone</td>\n      <td>#Biden is bought and paid for by #CommunistChina and #Ukraine.</td>\n    </tr>\n    <tr>\n      <th>98</th>\n      <td>1009517269658030082</td>\n      <td>2022-11-28T22:51:32.000Z</td>\n      <td>en</td>\n      <td>1597362586873638912</td>\n      <td>dlvr.it</td>\n      <td>Iranian activist has message for #Biden, world leaders https://t.co/FTsJEPsKLS</td>\n    </tr>\n    <tr>\n      <th>99</th>\n      <td>1101867251324596224</td>\n      <td>2022-11-28T22:51:14.000Z</td>\n      <td>en</td>\n      <td>1597362509660364800</td>\n      <td>Twitter for iPhone</td>\n      <td>@Helt5Helt @ZaackHunt @SenBillCassidy @IlhanMN I woulda thought if #Trump is a nazi #Russian wou...</td>\n    </tr>\n  </tbody>\n</table>\n<p>100 rows × 6 columns</p>\n</div>"
     },
     "execution_count": 171,
     "metadata": {},
     "output_type": "execute_result"
    }
   ],
   "source": [
    "pd.DataFrame(data=tweets['data'],\n",
    "             columns=['author_id', 'created_at', 'lang', 'id', 'source', 'text']\n",
    "             )"
   ],
   "metadata": {
    "collapsed": false,
    "pycharm": {
     "name": "#%%\n"
    }
   }
  },
  {
   "cell_type": "code",
   "execution_count": 213,
   "outputs": [],
   "source": [
    "more_tweets = tweepy.Paginator(v2_client.search_recent_tweets,\n",
    "                 query=query,\n",
    "                 max_results = 100,\n",
    "                 start_time='2022-11-29T00:00:00.000Z',\n",
    "                 end_time='2022-11-29T23:59:59.000Z',\n",
    "                 tweet_fields = ['author_id','created_at','text','source','lang','geo'],\n",
    "                 user_fields = ['name','username','location','verified'],\n",
    "                 expansions = ['geo.place_id', 'author_id'],\n",
    "                 place_fields = ['country','country_code']).flatten(limit=10000)"
   ],
   "metadata": {
    "collapsed": false,
    "pycharm": {
     "name": "#%%\n"
    }
   }
  },
  {
   "cell_type": "code",
   "execution_count": 214,
   "outputs": [],
   "source": [
    "df = pd.DataFrame(data=list(more_tweets),\n",
    "                  columns=['author_id', 'created_at', 'lang', 'id', 'source', 'text']\n",
    ")"
   ],
   "metadata": {
    "collapsed": false,
    "pycharm": {
     "name": "#%%\n"
    }
   }
  },
  {
   "cell_type": "code",
   "execution_count": 215,
   "outputs": [],
   "source": [
    "df.to_csv('biden_tweets_raw_29_11.csv', index=False)"
   ],
   "metadata": {
    "collapsed": false,
    "pycharm": {
     "name": "#%%\n"
    }
   }
  },
  {
   "cell_type": "code",
   "execution_count": 221,
   "outputs": [
    {
     "data": {
      "text/plain": "'2022-11-30'"
     },
     "execution_count": 221,
     "metadata": {},
     "output_type": "execute_result"
    }
   ],
   "source": [
    "a = '2022-11-30T00:00:00.000Z'\n",
    "a.split('T')[0]"
   ],
   "metadata": {
    "collapsed": false,
    "pycharm": {
     "name": "#%%\n"
    }
   }
  },
  {
   "cell_type": "code",
   "execution_count": null,
   "outputs": [],
   "source": [],
   "metadata": {
    "collapsed": false,
    "pycharm": {
     "name": "#%%\n"
    }
   }
  },
  {
   "cell_type": "code",
   "execution_count": null,
   "outputs": [],
   "source": [],
   "metadata": {
    "collapsed": false,
    "pycharm": {
     "name": "#%%\n"
    }
   }
  },
  {
   "cell_type": "code",
   "execution_count": null,
   "outputs": [],
   "source": [],
   "metadata": {
    "collapsed": false,
    "pycharm": {
     "name": "#%%\n"
    }
   }
  },
  {
   "cell_type": "code",
   "execution_count": null,
   "outputs": [],
   "source": [],
   "metadata": {
    "collapsed": false,
    "pycharm": {
     "name": "#%%\n"
    }
   }
  },
  {
   "cell_type": "code",
   "execution_count": null,
   "outputs": [],
   "source": [],
   "metadata": {
    "collapsed": false,
    "pycharm": {
     "name": "#%%\n"
    }
   }
  },
  {
   "cell_type": "code",
   "execution_count": null,
   "outputs": [],
   "source": [],
   "metadata": {
    "collapsed": false,
    "pycharm": {
     "name": "#%%\n"
    }
   }
  },
  {
   "cell_type": "code",
   "execution_count": 222,
   "outputs": [],
   "source": [
    "a = [['a', 'b'], ['c'], ['a', 'b']]"
   ],
   "metadata": {
    "collapsed": false,
    "pycharm": {
     "name": "#%%\n"
    }
   }
  },
  {
   "cell_type": "code",
   "execution_count": 228,
   "outputs": [
    {
     "ename": "TypeError",
     "evalue": "unhashable type: 'list'",
     "output_type": "error",
     "traceback": [
      "\u001B[1;31m---------------------------------------------------------------------------\u001B[0m",
      "\u001B[1;31mTypeError\u001B[0m                                 Traceback (most recent call last)",
      "Cell \u001B[1;32mIn[228], line 1\u001B[0m\n\u001B[1;32m----> 1\u001B[0m \u001B[38;5;28;43mset\u001B[39;49m\u001B[43m(\u001B[49m\u001B[43ma\u001B[49m\u001B[43m)\u001B[49m\n",
      "\u001B[1;31mTypeError\u001B[0m: unhashable type: 'list'"
     ]
    }
   ],
   "source": [
    "a."
   ],
   "metadata": {
    "collapsed": false,
    "pycharm": {
     "name": "#%%\n"
    }
   }
  }
 ],
 "metadata": {
  "kernelspec": {
   "display_name": "Python 3",
   "language": "python",
   "name": "python3"
  },
  "language_info": {
   "codemirror_mode": {
    "name": "ipython",
    "version": 2
   },
   "file_extension": ".py",
   "mimetype": "text/x-python",
   "name": "python",
   "nbconvert_exporter": "python",
   "pygments_lexer": "ipython2",
   "version": "2.7.6"
  }
 },
 "nbformat": 4,
 "nbformat_minor": 0
}