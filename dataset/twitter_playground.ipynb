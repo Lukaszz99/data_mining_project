{
 "cells": [
  {
   "cell_type": "code",
   "execution_count": 1,
   "metadata": {
    "collapsed": true,
    "pycharm": {
     "name": "#%%\n"
    }
   },
   "outputs": [],
   "source": [
    "import pandas as pd\n",
    "import tweepy\n",
    "import numpy as np\n",
    "pd.options.display.max_colwidth=100"
   ]
  },
  {
   "cell_type": "code",
   "execution_count": 2,
   "outputs": [],
   "source": [
    "import yaml"
   ],
   "metadata": {
    "collapsed": false,
    "pycharm": {
     "name": "#%%\n"
    }
   }
  },
  {
   "cell_type": "code",
   "execution_count": 3,
   "outputs": [],
   "source": [
    "with open(\"access_config.yaml\") as f:\n",
    "    access_dict = yaml.safe_load(f)"
   ],
   "metadata": {
    "collapsed": false,
    "pycharm": {
     "name": "#%%\n"
    }
   }
  },
  {
   "cell_type": "code",
   "execution_count": 4,
   "outputs": [
    {
     "data": {
      "text/plain": "{'api_key': 'RjJ5L8qguRiY0kwjCFhWyHP3j',\n 'api_key_secret': 'MPqXB2ZJV4kinSyDotYfj5zcK2eaipPZsIiNCY6gq6B6DAU8p3',\n 'access_token': '1390221257384333312-Kr0yidWBDuE0Ptw85AjMbNR16eIOVY',\n 'access_token_secret': 'RSADZsVBOJ7hPpE0mOT3CwDumSAirpJTlVshl3pK7AYqr',\n 'bearer_token': 'AAAAAAAAAAAAAAAAAAAAAFKljwEAAAAA8yhItLXWJbmKjOBmgbl4hD5H1Ks%3Deqdo0MwOJ0lV1mtjRcydp4Mx4Er3XhZvxYmuqXwkIfC6iseO8T'}"
     },
     "execution_count": 4,
     "metadata": {},
     "output_type": "execute_result"
    }
   ],
   "source": [
    "access_dict"
   ],
   "metadata": {
    "collapsed": false,
    "pycharm": {
     "name": "#%%\n"
    }
   }
  },
  {
   "cell_type": "code",
   "execution_count": 5,
   "outputs": [],
   "source": [
    "# authentication\n",
    "api_key = access_dict['api_key']\n",
    "api_key_secret = access_dict['api_key_secret']\n",
    "access_token = access_dict['access_token']\n",
    "access_token_secret = access_dict['access_token_secret']\n",
    "bearer_token = access_dict['bearer_token']"
   ],
   "metadata": {
    "collapsed": false,
    "pycharm": {
     "name": "#%%\n"
    }
   }
  },
  {
   "cell_type": "code",
   "execution_count": 6,
   "outputs": [
    {
     "name": "stderr",
     "output_type": "stream",
     "text": [
      "[nltk_data] Downloading package stopwords to\n",
      "[nltk_data]     C:\\Users\\lsaw9\\AppData\\Roaming\\nltk_data...\n",
      "[nltk_data]   Package stopwords is already up-to-date!\n",
      "[nltk_data] Downloading package punkt to\n",
      "[nltk_data]     C:\\Users\\lsaw9\\AppData\\Roaming\\nltk_data...\n",
      "[nltk_data]   Package punkt is already up-to-date!\n"
     ]
    }
   ],
   "source": [
    "import nltk\n",
    "nltk.download('stopwords')\n",
    "nltk.download('punkt')\n",
    "from nltk.corpus import stopwords\n",
    "from nltk.stem.snowball import SnowballStemmer\n",
    "import re\n",
    "\n",
    "\n",
    "st = SnowballStemmer('english')\n",
    "stop_words = set(stopwords.words('english'))\n",
    "\n",
    "\n",
    "def clean_text(x, st, sw):\n",
    "    x = x.lower()\n",
    "    x = re.sub('[^a-zA-Z]', ' ', x)\n",
    "    x = ' '.join(st.stem(text) for text in x.split() if text not in sw)\n",
    "\n",
    "    return x.split(' ')"
   ],
   "metadata": {
    "collapsed": false,
    "pycharm": {
     "name": "#%%\n"
    }
   }
  },
  {
   "cell_type": "code",
   "execution_count": 7,
   "outputs": [],
   "source": [
    "v2_client = tweepy.Client(bearer_token=bearer_token, consumer_key=api_key, consumer_secret=api_key_secret, access_token=access_token, access_token_secret=access_token_secret)"
   ],
   "metadata": {
    "collapsed": false,
    "pycharm": {
     "name": "#%%\n"
    }
   }
  },
  {
   "cell_type": "code",
   "execution_count": 8,
   "outputs": [],
   "source": [
    "query = '#twitter #elonmusk lang:en -is:retweet'"
   ],
   "metadata": {
    "collapsed": false,
    "pycharm": {
     "name": "#%%\n"
    }
   }
  },
  {
   "cell_type": "code",
   "execution_count": 9,
   "outputs": [],
   "source": [
    "more_tweets = tweepy.Paginator(v2_client.search_recent_tweets,\n",
    "                 query=query,\n",
    "                 max_results = 100,\n",
    "                 start_time='2022-12-05T00:00:00.000Z',\n",
    "                 end_time='2022-12-09T23:59:59.000Z',\n",
    "                 tweet_fields = ['author_id','created_at','text','source','lang','geo'],\n",
    "                 user_fields = ['name','username','location','verified'],\n",
    "                 expansions = ['geo.place_id', 'author_id'],\n",
    "                 place_fields = ['country','country_code']).flatten(limit=10000)"
   ],
   "metadata": {
    "collapsed": false,
    "pycharm": {
     "name": "#%%\n"
    }
   }
  },
  {
   "cell_type": "code",
   "execution_count": 10,
   "outputs": [],
   "source": [
    "more_data = list()\n",
    "for tweet in more_tweets:\n",
    "    more_data.append(\n",
    "        [tweet.author_id, tweet.created_at, tweet.id, tweet.text]\n",
    "    )\n",
    "\n",
    "df = pd.DataFrame(data=more_data,\n",
    "                  columns=['author_id', 'created_at', 'id', 'text']\n",
    ")"
   ],
   "metadata": {
    "collapsed": false,
    "pycharm": {
     "name": "#%%\n"
    }
   }
  },
  {
   "cell_type": "code",
   "execution_count": 11,
   "outputs": [
    {
     "data": {
      "text/plain": "(2635, 4)"
     },
     "execution_count": 11,
     "metadata": {},
     "output_type": "execute_result"
    }
   ],
   "source": [
    "df.shape"
   ],
   "metadata": {
    "collapsed": false,
    "pycharm": {
     "name": "#%%\n"
    }
   }
  },
  {
   "cell_type": "code",
   "execution_count": 12,
   "outputs": [],
   "source": [
    "df['text'] = df['text'].apply(lambda x: clean_text(x, st, stop_words))"
   ],
   "metadata": {
    "collapsed": false,
    "pycharm": {
     "name": "#%%\n"
    }
   }
  },
  {
   "cell_type": "code",
   "execution_count": 13,
   "outputs": [],
   "source": [
    "df['timestamp'] = pd.to_datetime(df['created_at']).dt.tz_localize(None)\n",
    "df['dec_hour'] = df['timestamp'].apply(lambda x: x.day * 24 + x.hour)\n",
    "df['time_windw'] = df['dec_hour'] // 6"
   ],
   "metadata": {
    "collapsed": false,
    "pycharm": {
     "name": "#%%\n"
    }
   }
  },
  {
   "cell_type": "code",
   "execution_count": 14,
   "outputs": [
    {
     "data": {
      "text/plain": "                author_id                created_at                   id  \\\n0     1357913221898862592 2022-12-09 23:57:46+00:00  1601365518711144449   \n1     1345223352122748928 2022-12-09 23:57:03+00:00  1601365337542635520   \n2                20554879 2022-12-09 23:56:51+00:00  1601365287399723008   \n3     1345223352122748928 2022-12-09 23:56:43+00:00  1601365257548890113   \n4     1345223352122748928 2022-12-09 23:55:48+00:00  1601365024374919168   \n...                   ...                       ...                  ...   \n2630   699632144168128513 2022-12-05 00:12:29+00:00  1599557284497170432   \n2631            137141050 2022-12-05 00:12:06+00:00  1599557188166352896   \n2632  1355073655357714435 2022-12-05 00:11:45+00:00  1599557099734073345   \n2633  1355073655357714435 2022-12-05 00:11:32+00:00  1599557046747090944   \n2634   940710664246611970 2022-12-05 00:01:04+00:00  1599554412585705474   \n\n                                                                                                     text  \\\n0     [janitor, laid, twitter, headquart, said, one, elonmusk, team, member, told, replac, robot, news...   \n1     [k, rat, twitter, gate, break, news, twitter, twitterg, elonmusk, breakingnew, https, co, grt, c...   \n2     [rose, webster, getmygist, dear, eltonjohn, eltonoffici, agre, elonmusk, elonmusk, still, suspen...   \n3     [ashlynn, twitter, gate, break, news, twitter, twitterg, elonmusk, breakingnew, https, co, grt, ...   \n4     [dirtydalerz, abolishthedea, kayodoherti, twitter, gate, break, news, twitter, twitterg, elonmus...   \n...                                                                                                   ...   \n2630  [tomorrow, drop, smoke, br, kz, tune, monday, pm, est, blackguytv, elonmusk, twitter, https, co,...   \n2631  [elon, eventu, decid, crypto, use, payment, twitter, like, includ, doge, bitcoin, altcoin, might...   \n2632  [elonmusk, hand, bot, need, purg, twitter, twitterfil, twitterg, elonmusk, bidenworstpresidentin...   \n2633  [elonmusk, found, hand, bot, need, purg, twitter, twitterfil, twitterg, elonmusk, bidenworstpres...   \n2634  [sinc, respect, sec, said, earlier, sure, elonmusk, approv, xrp, one, accept, payment, currenc, ...   \n\n               timestamp  dec_hour  time_windw  \n0    2022-12-09 23:57:46       239          39  \n1    2022-12-09 23:57:03       239          39  \n2    2022-12-09 23:56:51       239          39  \n3    2022-12-09 23:56:43       239          39  \n4    2022-12-09 23:55:48       239          39  \n...                  ...       ...         ...  \n2630 2022-12-05 00:12:29       120          20  \n2631 2022-12-05 00:12:06       120          20  \n2632 2022-12-05 00:11:45       120          20  \n2633 2022-12-05 00:11:32       120          20  \n2634 2022-12-05 00:01:04       120          20  \n\n[2635 rows x 7 columns]",
      "text/html": "<div>\n<style scoped>\n    .dataframe tbody tr th:only-of-type {\n        vertical-align: middle;\n    }\n\n    .dataframe tbody tr th {\n        vertical-align: top;\n    }\n\n    .dataframe thead th {\n        text-align: right;\n    }\n</style>\n<table border=\"1\" class=\"dataframe\">\n  <thead>\n    <tr style=\"text-align: right;\">\n      <th></th>\n      <th>author_id</th>\n      <th>created_at</th>\n      <th>id</th>\n      <th>text</th>\n      <th>timestamp</th>\n      <th>dec_hour</th>\n      <th>time_windw</th>\n    </tr>\n  </thead>\n  <tbody>\n    <tr>\n      <th>0</th>\n      <td>1357913221898862592</td>\n      <td>2022-12-09 23:57:46+00:00</td>\n      <td>1601365518711144449</td>\n      <td>[janitor, laid, twitter, headquart, said, one, elonmusk, team, member, told, replac, robot, news...</td>\n      <td>2022-12-09 23:57:46</td>\n      <td>239</td>\n      <td>39</td>\n    </tr>\n    <tr>\n      <th>1</th>\n      <td>1345223352122748928</td>\n      <td>2022-12-09 23:57:03+00:00</td>\n      <td>1601365337542635520</td>\n      <td>[k, rat, twitter, gate, break, news, twitter, twitterg, elonmusk, breakingnew, https, co, grt, c...</td>\n      <td>2022-12-09 23:57:03</td>\n      <td>239</td>\n      <td>39</td>\n    </tr>\n    <tr>\n      <th>2</th>\n      <td>20554879</td>\n      <td>2022-12-09 23:56:51+00:00</td>\n      <td>1601365287399723008</td>\n      <td>[rose, webster, getmygist, dear, eltonjohn, eltonoffici, agre, elonmusk, elonmusk, still, suspen...</td>\n      <td>2022-12-09 23:56:51</td>\n      <td>239</td>\n      <td>39</td>\n    </tr>\n    <tr>\n      <th>3</th>\n      <td>1345223352122748928</td>\n      <td>2022-12-09 23:56:43+00:00</td>\n      <td>1601365257548890113</td>\n      <td>[ashlynn, twitter, gate, break, news, twitter, twitterg, elonmusk, breakingnew, https, co, grt, ...</td>\n      <td>2022-12-09 23:56:43</td>\n      <td>239</td>\n      <td>39</td>\n    </tr>\n    <tr>\n      <th>4</th>\n      <td>1345223352122748928</td>\n      <td>2022-12-09 23:55:48+00:00</td>\n      <td>1601365024374919168</td>\n      <td>[dirtydalerz, abolishthedea, kayodoherti, twitter, gate, break, news, twitter, twitterg, elonmus...</td>\n      <td>2022-12-09 23:55:48</td>\n      <td>239</td>\n      <td>39</td>\n    </tr>\n    <tr>\n      <th>...</th>\n      <td>...</td>\n      <td>...</td>\n      <td>...</td>\n      <td>...</td>\n      <td>...</td>\n      <td>...</td>\n      <td>...</td>\n    </tr>\n    <tr>\n      <th>2630</th>\n      <td>699632144168128513</td>\n      <td>2022-12-05 00:12:29+00:00</td>\n      <td>1599557284497170432</td>\n      <td>[tomorrow, drop, smoke, br, kz, tune, monday, pm, est, blackguytv, elonmusk, twitter, https, co,...</td>\n      <td>2022-12-05 00:12:29</td>\n      <td>120</td>\n      <td>20</td>\n    </tr>\n    <tr>\n      <th>2631</th>\n      <td>137141050</td>\n      <td>2022-12-05 00:12:06+00:00</td>\n      <td>1599557188166352896</td>\n      <td>[elon, eventu, decid, crypto, use, payment, twitter, like, includ, doge, bitcoin, altcoin, might...</td>\n      <td>2022-12-05 00:12:06</td>\n      <td>120</td>\n      <td>20</td>\n    </tr>\n    <tr>\n      <th>2632</th>\n      <td>1355073655357714435</td>\n      <td>2022-12-05 00:11:45+00:00</td>\n      <td>1599557099734073345</td>\n      <td>[elonmusk, hand, bot, need, purg, twitter, twitterfil, twitterg, elonmusk, bidenworstpresidentin...</td>\n      <td>2022-12-05 00:11:45</td>\n      <td>120</td>\n      <td>20</td>\n    </tr>\n    <tr>\n      <th>2633</th>\n      <td>1355073655357714435</td>\n      <td>2022-12-05 00:11:32+00:00</td>\n      <td>1599557046747090944</td>\n      <td>[elonmusk, found, hand, bot, need, purg, twitter, twitterfil, twitterg, elonmusk, bidenworstpres...</td>\n      <td>2022-12-05 00:11:32</td>\n      <td>120</td>\n      <td>20</td>\n    </tr>\n    <tr>\n      <th>2634</th>\n      <td>940710664246611970</td>\n      <td>2022-12-05 00:01:04+00:00</td>\n      <td>1599554412585705474</td>\n      <td>[sinc, respect, sec, said, earlier, sure, elonmusk, approv, xrp, one, accept, payment, currenc, ...</td>\n      <td>2022-12-05 00:01:04</td>\n      <td>120</td>\n      <td>20</td>\n    </tr>\n  </tbody>\n</table>\n<p>2635 rows × 7 columns</p>\n</div>"
     },
     "execution_count": 14,
     "metadata": {},
     "output_type": "execute_result"
    }
   ],
   "source": [
    "df"
   ],
   "metadata": {
    "collapsed": false,
    "pycharm": {
     "name": "#%%\n"
    }
   }
  },
  {
   "cell_type": "code",
   "execution_count": 215,
   "outputs": [],
   "source": [
    "df.to_csv('biden_tweets_raw_29_11.csv', index=False)"
   ],
   "metadata": {
    "collapsed": false,
    "pycharm": {
     "name": "#%%\n"
    }
   }
  },
  {
   "cell_type": "code",
   "execution_count": 221,
   "outputs": [
    {
     "data": {
      "text/plain": "'2022-11-30'"
     },
     "execution_count": 221,
     "metadata": {},
     "output_type": "execute_result"
    }
   ],
   "source": [
    "a = '2022-11-30T00:00:00.000Z'\n",
    "a.split('T')[0]"
   ],
   "metadata": {
    "collapsed": false,
    "pycharm": {
     "name": "#%%\n"
    }
   }
  },
  {
   "cell_type": "code",
   "execution_count": null,
   "outputs": [],
   "source": [],
   "metadata": {
    "collapsed": false,
    "pycharm": {
     "name": "#%%\n"
    }
   }
  },
  {
   "cell_type": "code",
   "execution_count": null,
   "outputs": [],
   "source": [],
   "metadata": {
    "collapsed": false,
    "pycharm": {
     "name": "#%%\n"
    }
   }
  },
  {
   "cell_type": "code",
   "execution_count": null,
   "outputs": [],
   "source": [],
   "metadata": {
    "collapsed": false,
    "pycharm": {
     "name": "#%%\n"
    }
   }
  },
  {
   "cell_type": "code",
   "execution_count": null,
   "outputs": [],
   "source": [],
   "metadata": {
    "collapsed": false,
    "pycharm": {
     "name": "#%%\n"
    }
   }
  },
  {
   "cell_type": "code",
   "execution_count": 25,
   "outputs": [],
   "source": [
    "df = pd.read_csv('musk_twitter_2022-12-10.csv')"
   ],
   "metadata": {
    "collapsed": false,
    "pycharm": {
     "name": "#%%\n"
    }
   }
  },
  {
   "cell_type": "code",
   "execution_count": 37,
   "outputs": [
    {
     "data": {
      "text/plain": "(0, \"['twitter', 'delet', 'billion', 'account', 'lol', 'elonmusk', 'waiv', 'due', 'dilig', 'billion', 'twitter', 'purchas', 'https', 'co', 'btvdaeft']\", 43)"
     },
     "execution_count": 37,
     "metadata": {},
     "output_type": "execute_result"
    }
   ],
   "source": [
    "df[['text', 'time_window']].to_records()[0]"
   ],
   "metadata": {
    "collapsed": false,
    "pycharm": {
     "name": "#%%\n"
    }
   }
  },
  {
   "cell_type": "code",
   "execution_count": 38,
   "outputs": [],
   "source": [
    "from collections import defaultdict\n",
    "dd = defaultdict(lambda: list())"
   ],
   "metadata": {
    "collapsed": false,
    "pycharm": {
     "name": "#%%\n"
    }
   }
  },
  {
   "cell_type": "code",
   "execution_count": 40,
   "outputs": [],
   "source": [
    "for record in df[['text', 'time_window']].to_records():\n",
    "    dd[record[2]].append(eval(record[1]))"
   ],
   "metadata": {
    "collapsed": false,
    "pycharm": {
     "name": "#%%\n"
    }
   }
  },
  {
   "cell_type": "code",
   "execution_count": 57,
   "outputs": [],
   "source": [
    "seq = list()\n",
    "for k,v in dd.items():\n",
    "    seq.append(v)"
   ],
   "metadata": {
    "collapsed": false,
    "pycharm": {
     "name": "#%%\n"
    }
   }
  },
  {
   "cell_type": "code",
   "execution_count": 59,
   "outputs": [
    {
     "data": {
      "text/plain": "4"
     },
     "execution_count": 59,
     "metadata": {},
     "output_type": "execute_result"
    }
   ],
   "source": [
    "len(seq)"
   ],
   "metadata": {
    "collapsed": false,
    "pycharm": {
     "name": "#%%\n"
    }
   }
  }
 ],
 "metadata": {
  "kernelspec": {
   "display_name": "Python 3",
   "language": "python",
   "name": "python3"
  },
  "language_info": {
   "codemirror_mode": {
    "name": "ipython",
    "version": 2
   },
   "file_extension": ".py",
   "mimetype": "text/x-python",
   "name": "python",
   "nbconvert_exporter": "python",
   "pygments_lexer": "ipython2",
   "version": "2.7.6"
  }
 },
 "nbformat": 4,
 "nbformat_minor": 0
}