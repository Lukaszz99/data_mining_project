{
 "cells": [
  {
   "cell_type": "code",
   "execution_count": 1,
   "metadata": {
    "collapsed": true,
    "pycharm": {
     "name": "#%%\n"
    }
   },
   "outputs": [],
   "source": [
    "import pandas as pd\n",
    "import numpy as np"
   ]
  },
  {
   "cell_type": "code",
   "execution_count": 2,
   "outputs": [],
   "source": [
    "df1 = pd.read_csv('results.csv')\n",
    "df2 = pd.read_csv('results2.csv')\n",
    "df_master = pd.concat([df1, df2])"
   ],
   "metadata": {
    "collapsed": false,
    "pycharm": {
     "name": "#%%\n"
    }
   }
  },
  {
   "cell_type": "code",
   "execution_count": 9,
   "outputs": [],
   "source": [
    "df_master.to_csv(\"all_results.csv\", index=False)"
   ],
   "metadata": {
    "collapsed": false,
    "pycharm": {
     "name": "#%%\n"
    }
   }
  },
  {
   "cell_type": "code",
   "execution_count": 9,
   "outputs": [],
   "source": [
    "\"\"\"\n",
    "Typy uruchomienia:\n",
    "algorithm: 'prefixspan' lub 'gsp'\n",
    "support: 0.12, 0.2, 0.3 lub 0.4\n",
    "\n",
    "Tasks:\n",
    "1. Najczęstsze zbiory dla każdego typu uruchomienia\n",
    "\"\"\""
   ],
   "metadata": {
    "collapsed": false,
    "pycharm": {
     "name": "#%%\n"
    }
   }
  },
  {
   "cell_type": "code",
   "execution_count": 60,
   "outputs": [],
   "source": [
    "df_master['run_type'] = df_master['algorithm'] + '_' + df_master['support'].astype('str') + '_' + df_master['max_seq'].astype('str')\n",
    "df_master['word_nb'] = df_master['seq'].apply(lambda x: x.count(',') + 1)"
   ],
   "metadata": {
    "collapsed": false,
    "pycharm": {
     "name": "#%%\n"
    }
   }
  },
  {
   "cell_type": "code",
   "execution_count": 61,
   "outputs": [
    {
     "data": {
      "text/plain": "       algorithm                  dir_name  support  max_seq  max_trans  \\\n0     prefixspan       prefixspan_1000_012     0.12     1000         20   \n1     prefixspan       prefixspan_1000_012     0.12     1000         20   \n2     prefixspan       prefixspan_1000_012     0.12     1000         20   \n3     prefixspan       prefixspan_1000_012     0.12     1000         20   \n4     prefixspan       prefixspan_1000_012     0.12     1000         20   \n...          ...                       ...      ...      ...        ...   \n3121  prefixspan  prefixspan_700_40_memory     0.40      700         20   \n3122  prefixspan  prefixspan_700_40_memory     0.40      700         20   \n3123  prefixspan  prefixspan_700_40_memory     0.40      700         20   \n3124  prefixspan  prefixspan_700_40_memory     0.40      700         20   \n3125  prefixspan  prefixspan_700_40_memory     0.40      700         20   \n\n      max_items      time  peak_memory                     seq  score  \\\n0           100  3.426870    1905584.0             [['great']]    120   \n1           100  3.426870    1905584.0              [['much']]    122   \n2           100  3.426870    1905584.0             [['could']]    123   \n3           100  3.426870    1905584.0              [['live']]    124   \n4           100  3.426870    1905584.0             [['short']]    124   \n...         ...       ...          ...                     ...    ...   \n3121        100  0.189488     817128.0              [['like']]    315   \n3122        100  0.189488     817128.0            [['spacex']]    377   \n3123        100  0.189488     817128.0             [['tesla']]    545   \n3124        100  0.189488     817128.0   [['tesla', 'spacex']]    318   \n3125        100  0.189488     817128.0  [['tesla'], ['tesla']]    352   \n\n                  run_type  word_nb  \n0     prefixspan_0.12_1000        1  \n1     prefixspan_0.12_1000        1  \n2     prefixspan_0.12_1000        1  \n3     prefixspan_0.12_1000        1  \n4     prefixspan_0.12_1000        1  \n...                    ...      ...  \n3121    prefixspan_0.4_700        1  \n3122    prefixspan_0.4_700        1  \n3123    prefixspan_0.4_700        1  \n3124    prefixspan_0.4_700        2  \n3125    prefixspan_0.4_700        2  \n\n[5161 rows x 12 columns]",
      "text/html": "<div>\n<style scoped>\n    .dataframe tbody tr th:only-of-type {\n        vertical-align: middle;\n    }\n\n    .dataframe tbody tr th {\n        vertical-align: top;\n    }\n\n    .dataframe thead th {\n        text-align: right;\n    }\n</style>\n<table border=\"1\" class=\"dataframe\">\n  <thead>\n    <tr style=\"text-align: right;\">\n      <th></th>\n      <th>algorithm</th>\n      <th>dir_name</th>\n      <th>support</th>\n      <th>max_seq</th>\n      <th>max_trans</th>\n      <th>max_items</th>\n      <th>time</th>\n      <th>peak_memory</th>\n      <th>seq</th>\n      <th>score</th>\n      <th>run_type</th>\n      <th>word_nb</th>\n    </tr>\n  </thead>\n  <tbody>\n    <tr>\n      <th>0</th>\n      <td>prefixspan</td>\n      <td>prefixspan_1000_012</td>\n      <td>0.12</td>\n      <td>1000</td>\n      <td>20</td>\n      <td>100</td>\n      <td>3.426870</td>\n      <td>1905584.0</td>\n      <td>[['great']]</td>\n      <td>120</td>\n      <td>prefixspan_0.12_1000</td>\n      <td>1</td>\n    </tr>\n    <tr>\n      <th>1</th>\n      <td>prefixspan</td>\n      <td>prefixspan_1000_012</td>\n      <td>0.12</td>\n      <td>1000</td>\n      <td>20</td>\n      <td>100</td>\n      <td>3.426870</td>\n      <td>1905584.0</td>\n      <td>[['much']]</td>\n      <td>122</td>\n      <td>prefixspan_0.12_1000</td>\n      <td>1</td>\n    </tr>\n    <tr>\n      <th>2</th>\n      <td>prefixspan</td>\n      <td>prefixspan_1000_012</td>\n      <td>0.12</td>\n      <td>1000</td>\n      <td>20</td>\n      <td>100</td>\n      <td>3.426870</td>\n      <td>1905584.0</td>\n      <td>[['could']]</td>\n      <td>123</td>\n      <td>prefixspan_0.12_1000</td>\n      <td>1</td>\n    </tr>\n    <tr>\n      <th>3</th>\n      <td>prefixspan</td>\n      <td>prefixspan_1000_012</td>\n      <td>0.12</td>\n      <td>1000</td>\n      <td>20</td>\n      <td>100</td>\n      <td>3.426870</td>\n      <td>1905584.0</td>\n      <td>[['live']]</td>\n      <td>124</td>\n      <td>prefixspan_0.12_1000</td>\n      <td>1</td>\n    </tr>\n    <tr>\n      <th>4</th>\n      <td>prefixspan</td>\n      <td>prefixspan_1000_012</td>\n      <td>0.12</td>\n      <td>1000</td>\n      <td>20</td>\n      <td>100</td>\n      <td>3.426870</td>\n      <td>1905584.0</td>\n      <td>[['short']]</td>\n      <td>124</td>\n      <td>prefixspan_0.12_1000</td>\n      <td>1</td>\n    </tr>\n    <tr>\n      <th>...</th>\n      <td>...</td>\n      <td>...</td>\n      <td>...</td>\n      <td>...</td>\n      <td>...</td>\n      <td>...</td>\n      <td>...</td>\n      <td>...</td>\n      <td>...</td>\n      <td>...</td>\n      <td>...</td>\n      <td>...</td>\n    </tr>\n    <tr>\n      <th>3121</th>\n      <td>prefixspan</td>\n      <td>prefixspan_700_40_memory</td>\n      <td>0.40</td>\n      <td>700</td>\n      <td>20</td>\n      <td>100</td>\n      <td>0.189488</td>\n      <td>817128.0</td>\n      <td>[['like']]</td>\n      <td>315</td>\n      <td>prefixspan_0.4_700</td>\n      <td>1</td>\n    </tr>\n    <tr>\n      <th>3122</th>\n      <td>prefixspan</td>\n      <td>prefixspan_700_40_memory</td>\n      <td>0.40</td>\n      <td>700</td>\n      <td>20</td>\n      <td>100</td>\n      <td>0.189488</td>\n      <td>817128.0</td>\n      <td>[['spacex']]</td>\n      <td>377</td>\n      <td>prefixspan_0.4_700</td>\n      <td>1</td>\n    </tr>\n    <tr>\n      <th>3123</th>\n      <td>prefixspan</td>\n      <td>prefixspan_700_40_memory</td>\n      <td>0.40</td>\n      <td>700</td>\n      <td>20</td>\n      <td>100</td>\n      <td>0.189488</td>\n      <td>817128.0</td>\n      <td>[['tesla']]</td>\n      <td>545</td>\n      <td>prefixspan_0.4_700</td>\n      <td>1</td>\n    </tr>\n    <tr>\n      <th>3124</th>\n      <td>prefixspan</td>\n      <td>prefixspan_700_40_memory</td>\n      <td>0.40</td>\n      <td>700</td>\n      <td>20</td>\n      <td>100</td>\n      <td>0.189488</td>\n      <td>817128.0</td>\n      <td>[['tesla', 'spacex']]</td>\n      <td>318</td>\n      <td>prefixspan_0.4_700</td>\n      <td>2</td>\n    </tr>\n    <tr>\n      <th>3125</th>\n      <td>prefixspan</td>\n      <td>prefixspan_700_40_memory</td>\n      <td>0.40</td>\n      <td>700</td>\n      <td>20</td>\n      <td>100</td>\n      <td>0.189488</td>\n      <td>817128.0</td>\n      <td>[['tesla'], ['tesla']]</td>\n      <td>352</td>\n      <td>prefixspan_0.4_700</td>\n      <td>2</td>\n    </tr>\n  </tbody>\n</table>\n<p>5161 rows × 12 columns</p>\n</div>"
     },
     "execution_count": 61,
     "metadata": {},
     "output_type": "execute_result"
    }
   ],
   "source": [
    "df_master"
   ],
   "metadata": {
    "collapsed": false,
    "pycharm": {
     "name": "#%%\n"
    }
   }
  },
  {
   "cell_type": "code",
   "execution_count": 72,
   "outputs": [],
   "source": [
    "def get_top_results(df, top_n: int = 1, mem_only: bool = False) -> pd.DataFrame:\n",
    "    if mem_only:\n",
    "        df = df.dropna(subset=['peak_memory'])\n",
    "    else:\n",
    "        df = df[df['peak_memory'].isnull()]\n",
    "\n",
    "    return df.sort_values(by=[\"algorithm\", \"support\", \"max_seq\", \"word_nb\", \"score\"], ascending=[True, True, True, True, False]).groupby([\"run_type\", \"word_nb\"]).head(top_n)[['algorithm', 'support', 'max_seq', 'time', 'peak_memory', 'word_nb', 'seq', 'score']]"
   ],
   "metadata": {
    "collapsed": false,
    "pycharm": {
     "name": "#%%\n"
    }
   }
  },
  {
   "cell_type": "code",
   "execution_count": 76,
   "outputs": [],
   "source": [
    "df_results = get_top_results(df=df_master, top_n=5, mem_only=False)"
   ],
   "metadata": {
    "collapsed": false,
    "pycharm": {
     "name": "#%%\n"
    }
   }
  },
  {
   "cell_type": "code",
   "execution_count": 79,
   "outputs": [],
   "source": [
    "df_results['seq'] = df_results['seq'].apply(lambda x: x.replace('[[', '{').replace(']]', '}').replace('[', '{').replace(']', '}'))"
   ],
   "metadata": {
    "collapsed": false,
    "pycharm": {
     "name": "#%%\n"
    }
   }
  },
  {
   "cell_type": "code",
   "execution_count": 80,
   "outputs": [],
   "source": [
    "df_results.to_csv('top_results.csv', index=False)"
   ],
   "metadata": {
    "collapsed": false,
    "pycharm": {
     "name": "#%%\n"
    }
   }
  },
  {
   "cell_type": "code",
   "execution_count": null,
   "outputs": [],
   "source": [],
   "metadata": {
    "collapsed": false,
    "pycharm": {
     "name": "#%%\n"
    }
   }
  }
 ],
 "metadata": {
  "kernelspec": {
   "display_name": "Python 3",
   "language": "python",
   "name": "python3"
  },
  "language_info": {
   "codemirror_mode": {
    "name": "ipython",
    "version": 2
   },
   "file_extension": ".py",
   "mimetype": "text/x-python",
   "name": "python",
   "nbconvert_exporter": "python",
   "pygments_lexer": "ipython2",
   "version": "2.7.6"
  }
 },
 "nbformat": 4,
 "nbformat_minor": 0
}